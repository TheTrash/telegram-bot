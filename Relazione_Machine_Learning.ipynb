{
  "nbformat": 4,
  "nbformat_minor": 0,
  "metadata": {
    "accelerator": "GPU",
    "colab": {
      "name": "Relazione Machine Learning.ipynb",
      "provenance": [],
      "collapsed_sections": [
        "dtIoI0VTgsDp",
        "nzrvtA99l2Zo",
        "2m7eE9GkJh3Y",
        "6VnZk73JjfUe",
        "Z1CmiYbmXbWk"
      ]
    },
    "kernelspec": {
      "display_name": "Python 3",
      "name": "python3"
    }
  },
  "cells": [
    {
      "cell_type": "code",
      "metadata": {
        "id": "hHCaX9rHfeCS"
      },
      "source": [
        "!rm -r sample_data/\r\n",
        "!wget https://www.thetrash.altervista.org/HPC/ML/archive.zip\r\n",
        "!unzip archive.zip"
      ],
      "execution_count": null,
      "outputs": []
    },
    {
      "cell_type": "markdown",
      "metadata": {
        "id": "i_SrUldIiOEm"
      },
      "source": [
        "## Import delle varie librerie e del dataset"
      ]
    },
    {
      "cell_type": "code",
      "metadata": {
        "id": "IrtQ5xj9hiib"
      },
      "source": [
        "import time\n",
        "import os\n",
        "\n",
        "import numpy as np # linear algebra\n",
        "import pandas as pd # data processing, CSV file I/O (e.g. pd.read_csv)\n",
        "%matplotlib inline\n",
        "\n",
        "import numpy as np                      # advanced math library\n",
        "import matplotlib.pyplot as plt         # MATLAB like plotting routines\n",
        "import random                           # for generating random numbers\n",
        "\n",
        "from keras.models import Sequential, Model, load_model  # Model type to be used\n",
        "\n",
        "from keras.layers.core import Dense, Dropout, Activation\n",
        "                                        # Types of layers to be used in\n",
        "                                        # our model\n",
        "from keras.utils import np_utils        # NumPy related tools\n",
        "\n",
        "from keras.preprocessing import image_dataset_from_directory, image\n",
        "from keras.preprocessing.image import ImageDataGenerator\n",
        "from keras.layers import (Conv2D, MaxPooling2D, Flatten)\n",
        "from keras.optimizers import Adam, SGD\n",
        "from keras.applications.vgg16 import VGG16\n",
        "\n",
        "from IPython.display import Image\n",
        "\n",
        "from numpy.random import seed\n",
        "seed(56465423)"
      ],
      "execution_count": null,
      "outputs": []
    },
    {
      "cell_type": "code",
      "metadata": {
        "colab": {
          "base_uri": "https://localhost:8080/"
        },
        "id": "GhPUW73STEhT",
        "outputId": "0e6505c0-e7db-4cbd-aa80-eaee7ece52da"
      },
      "source": [
        "#width height\r\n",
        "w, h  = (128,128)\r\n",
        "# w, h  = (224,224) # Terzo modello\r\n",
        "#batch size\r\n",
        "b = 16 # Primo modello\r\n",
        "#b = 32 # secondo modello\r\n",
        "#b = 64 # terzo modello\r\n",
        "\r\n",
        "#import del dataset\r\n",
        "train_path = 'training_set/training_set'\r\n",
        "test_path = 'test_set/test_set'\r\n",
        "\r\n",
        "train_datagen = ImageDataGenerator( rescale = 1./ 255, shear_range = 0.2,\r\n",
        "                                   zoom_range = 0.2, horizontal_flip = True) \r\n",
        "                \r\n",
        "test_datagen = ImageDataGenerator( rescale = 1. / 255 ) \r\n",
        "\r\n",
        "# path to image , resize dimension, batch size\r\n",
        "train_generator = train_datagen.flow_from_directory(train_path, \r\n",
        "                                                    target_size =(w, h),\r\n",
        "                                                    batch_size = b,\r\n",
        "                                                    class_mode ='binary') \r\n",
        "  \r\n",
        "validation_generator = test_datagen.flow_from_directory( test_path, \r\n",
        "                                                        target_size =(w, h), \r\n",
        "                                                        batch_size = b, \r\n",
        "                                                        class_mode ='binary')\r\n",
        "\r\n",
        "print(\"\\n\")\r\n",
        "print(\"Lunghezza del train generator >\",len(train_generator),\"\\nShape > \",train_generator[0][0].shape )\r\n",
        "print(\"Lunghezza del validation generator >\",len(validation_generator),\"\\nShape > \",validation_generator[0][0].shape)"
      ],
      "execution_count": null,
      "outputs": [
        {
          "output_type": "stream",
          "text": [
            "Found 8005 images belonging to 2 classes.\n",
            "Found 2023 images belonging to 2 classes.\n",
            "\n",
            "\n",
            "Lunghezza del train generator > 501 \n",
            "Shape >  (16, 128, 128, 3)\n",
            "Lunghezza del validation generator > 127 \n",
            "Shape >  (16, 128, 128, 3)\n"
          ],
          "name": "stdout"
        }
      ]
    },
    {
      "cell_type": "markdown",
      "metadata": {
        "id": "-ZDDhEANi0vd"
      },
      "source": [
        "## Dichiarazione dei modelli"
      ]
    },
    {
      "cell_type": "markdown",
      "metadata": {
        "id": "P5yuAkD7d8Cy"
      },
      "source": [
        "### Modelli:"
      ]
    },
    {
      "cell_type": "markdown",
      "metadata": {
        "id": "dtIoI0VTgsDp"
      },
      "source": [
        "#### Primo modello \r\n",
        "* conv: 32-> 32-> 64 -> flatten -> dense 64 -> dense 1\r\n",
        "\r\n",
        "widht and height = 128\r\n",
        "\r\n",
        "batch size = 16\r\n",
        "\r\n",
        "epochs = 20"
      ]
    },
    {
      "cell_type": "code",
      "metadata": {
        "id": "PKbigHB9i8k_"
      },
      "source": [
        "model_name = \"first\"\r\n",
        "model = Sequential()\r\n",
        "model.add(Conv2D(32,(3,3),input_shape=(w,h,3)))\r\n",
        "model.add(Activation('relu'))\r\n",
        "model.add(MaxPooling2D(pool_size=(2,2)))\r\n",
        "\r\n",
        "model.add(Conv2D(32,(3,3)))\r\n",
        "model.add(Activation('relu'))\r\n",
        "model.add(MaxPooling2D(pool_size=(2,2)))\r\n",
        "\r\n",
        "model.add(Conv2D(64,(3,3)))\r\n",
        "model.add(Activation('relu'))\r\n",
        "model.add(MaxPooling2D(pool_size=(2,2)))\r\n",
        "\r\n",
        "model.add(Flatten())\r\n",
        "model.add(Dense(64))\r\n",
        "model.add(Activation('relu'))\r\n",
        "model.add(Dropout(0.5))\r\n",
        "model.add(Dense(1))\r\n",
        "model.add(Activation('sigmoid'))\r\n",
        "\r\n",
        "#Model compilation\r\n",
        "model.compile(loss='binary_crossentropy',optimizer='adam', metrics=['accuracy'])\r\n",
        "\r\n",
        "model.summary()"
      ],
      "execution_count": null,
      "outputs": []
    },
    {
      "cell_type": "markdown",
      "metadata": {
        "id": "nzrvtA99l2Zo"
      },
      "source": [
        "#### Secondo Modello\r\n",
        "* conv: 32-> 64-> 128 -> flatten -> dense 128 -> dense 1\r\n",
        "\r\n",
        "widht and height = 128\r\n",
        "\r\n",
        "batch size = 32"
      ]
    },
    {
      "cell_type": "code",
      "metadata": {
        "id": "j07IhCch8rvc",
        "colab": {
          "base_uri": "https://localhost:8080/"
        },
        "outputId": "0255fd36-0184-4cd1-98d8-f32961bb995a"
      },
      "source": [
        "model_name = \"second\"\r\n",
        "model = Sequential()\r\n",
        "model.add(Conv2D(32,(3,3),input_shape=(w,h,3)))\r\n",
        "model.add(Activation('relu'))\r\n",
        "model.add(MaxPooling2D(pool_size=(2,2)))\r\n",
        "model.add(Dropout(0.2))\r\n",
        "model.add(Conv2D(64,(3,3)))\r\n",
        "model.add(Activation('relu'))\r\n",
        "model.add(MaxPooling2D(pool_size=(2,2)))\r\n",
        "model.add(Dropout(0.2))\r\n",
        "model.add(Conv2D(128,(3,3)))\r\n",
        "model.add(Activation('relu'))\r\n",
        "model.add(MaxPooling2D(pool_size=(2,2)))\r\n",
        "model.add(Dropout(0.2))\r\n",
        "\r\n",
        "model.add(Flatten())\r\n",
        "model.add(Dense(128))\r\n",
        "model.add(Activation('relu'))\r\n",
        "model.add(Dropout(0.5))\r\n",
        "model.add(Dense(1))\r\n",
        "model.add(Activation('sigmoid'))\r\n",
        "\r\n",
        "#Model compilation\r\n",
        "sgd = SGD(lr=0.001 ,  momentum =0.9)\r\n",
        "model.compile(loss='binary_crossentropy', optimizer= sgd, metrics=['accuracy'])\r\n",
        "model.summary()"
      ],
      "execution_count": null,
      "outputs": [
        {
          "output_type": "stream",
          "text": [
            "Model: \"sequential\"\n",
            "_________________________________________________________________\n",
            "Layer (type)                 Output Shape              Param #   \n",
            "=================================================================\n",
            "conv2d (Conv2D)              (None, 126, 126, 32)      896       \n",
            "_________________________________________________________________\n",
            "activation (Activation)      (None, 126, 126, 32)      0         \n",
            "_________________________________________________________________\n",
            "max_pooling2d (MaxPooling2D) (None, 63, 63, 32)        0         \n",
            "_________________________________________________________________\n",
            "dropout (Dropout)            (None, 63, 63, 32)        0         \n",
            "_________________________________________________________________\n",
            "conv2d_1 (Conv2D)            (None, 61, 61, 64)        18496     \n",
            "_________________________________________________________________\n",
            "activation_1 (Activation)    (None, 61, 61, 64)        0         \n",
            "_________________________________________________________________\n",
            "max_pooling2d_1 (MaxPooling2 (None, 30, 30, 64)        0         \n",
            "_________________________________________________________________\n",
            "dropout_1 (Dropout)          (None, 30, 30, 64)        0         \n",
            "_________________________________________________________________\n",
            "conv2d_2 (Conv2D)            (None, 28, 28, 128)       73856     \n",
            "_________________________________________________________________\n",
            "activation_2 (Activation)    (None, 28, 28, 128)       0         \n",
            "_________________________________________________________________\n",
            "max_pooling2d_2 (MaxPooling2 (None, 14, 14, 128)       0         \n",
            "_________________________________________________________________\n",
            "dropout_2 (Dropout)          (None, 14, 14, 128)       0         \n",
            "_________________________________________________________________\n",
            "flatten (Flatten)            (None, 25088)             0         \n",
            "_________________________________________________________________\n",
            "dense (Dense)                (None, 128)               3211392   \n",
            "_________________________________________________________________\n",
            "activation_3 (Activation)    (None, 128)               0         \n",
            "_________________________________________________________________\n",
            "dropout_3 (Dropout)          (None, 128)               0         \n",
            "_________________________________________________________________\n",
            "dense_1 (Dense)              (None, 1)                 129       \n",
            "_________________________________________________________________\n",
            "activation_4 (Activation)    (None, 1)                 0         \n",
            "=================================================================\n",
            "Total params: 3,304,769\n",
            "Trainable params: 3,304,769\n",
            "Non-trainable params: 0\n",
            "_________________________________________________________________\n"
          ],
          "name": "stdout"
        }
      ]
    },
    {
      "cell_type": "markdown",
      "metadata": {
        "id": "2m7eE9GkJh3Y"
      },
      "source": [
        "#### Terzo Modello\r\n",
        "* VGG 16 -> flatten -> dense 128 -> dense 1\r\n",
        "\r\n",
        "widht and height = 224\r\n",
        "\r\n",
        "batch size = 64"
      ]
    },
    {
      "cell_type": "code",
      "metadata": {
        "colab": {
          "base_uri": "https://localhost:8080/"
        },
        "id": "_kfysEp5JlRA",
        "outputId": "962e22e1-273b-444b-c837-ebe933125baa"
      },
      "source": [
        "model_name = \"third\"\r\n",
        "model = VGG16(include_top=False, input_shape=(w, h, 3))\r\n",
        "# mark loaded layers as not trainable\r\n",
        "for layer in model.layers:\r\n",
        "\tlayer.trainable = False\r\n",
        "\t# add new classifier layers\r\n",
        "flat1 = Flatten()(model.layers[-1].output)\r\n",
        "class1 = Dense(128, activation='relu', kernel_initializer='he_uniform')(flat1)\r\n",
        "output = Dense(1, activation='sigmoid')(class1)\r\n",
        "\t# define new model\r\n",
        "model = Model(inputs=model.inputs, outputs=output)\r\n",
        "\t# compile model\r\n",
        "opt = SGD(lr=0.001, momentum=0.9)\r\n",
        "model.compile(optimizer=opt, loss='binary_crossentropy', metrics=['accuracy'])\r\n",
        "model.summary()"
      ],
      "execution_count": null,
      "outputs": [
        {
          "output_type": "stream",
          "text": [
            "Model: \"model\"\n",
            "_________________________________________________________________\n",
            "Layer (type)                 Output Shape              Param #   \n",
            "=================================================================\n",
            "input_1 (InputLayer)         [(None, 224, 224, 3)]     0         \n",
            "_________________________________________________________________\n",
            "block1_conv1 (Conv2D)        (None, 224, 224, 64)      1792      \n",
            "_________________________________________________________________\n",
            "block1_conv2 (Conv2D)        (None, 224, 224, 64)      36928     \n",
            "_________________________________________________________________\n",
            "block1_pool (MaxPooling2D)   (None, 112, 112, 64)      0         \n",
            "_________________________________________________________________\n",
            "block2_conv1 (Conv2D)        (None, 112, 112, 128)     73856     \n",
            "_________________________________________________________________\n",
            "block2_conv2 (Conv2D)        (None, 112, 112, 128)     147584    \n",
            "_________________________________________________________________\n",
            "block2_pool (MaxPooling2D)   (None, 56, 56, 128)       0         \n",
            "_________________________________________________________________\n",
            "block3_conv1 (Conv2D)        (None, 56, 56, 256)       295168    \n",
            "_________________________________________________________________\n",
            "block3_conv2 (Conv2D)        (None, 56, 56, 256)       590080    \n",
            "_________________________________________________________________\n",
            "block3_conv3 (Conv2D)        (None, 56, 56, 256)       590080    \n",
            "_________________________________________________________________\n",
            "block3_pool (MaxPooling2D)   (None, 28, 28, 256)       0         \n",
            "_________________________________________________________________\n",
            "block4_conv1 (Conv2D)        (None, 28, 28, 512)       1180160   \n",
            "_________________________________________________________________\n",
            "block4_conv2 (Conv2D)        (None, 28, 28, 512)       2359808   \n",
            "_________________________________________________________________\n",
            "block4_conv3 (Conv2D)        (None, 28, 28, 512)       2359808   \n",
            "_________________________________________________________________\n",
            "block4_pool (MaxPooling2D)   (None, 14, 14, 512)       0         \n",
            "_________________________________________________________________\n",
            "block5_conv1 (Conv2D)        (None, 14, 14, 512)       2359808   \n",
            "_________________________________________________________________\n",
            "block5_conv2 (Conv2D)        (None, 14, 14, 512)       2359808   \n",
            "_________________________________________________________________\n",
            "block5_conv3 (Conv2D)        (None, 14, 14, 512)       2359808   \n",
            "_________________________________________________________________\n",
            "block5_pool (MaxPooling2D)   (None, 7, 7, 512)         0         \n",
            "_________________________________________________________________\n",
            "flatten (Flatten)            (None, 25088)             0         \n",
            "_________________________________________________________________\n",
            "dense (Dense)                (None, 128)               3211392   \n",
            "_________________________________________________________________\n",
            "dense_1 (Dense)              (None, 1)                 129       \n",
            "=================================================================\n",
            "Total params: 17,926,209\n",
            "Trainable params: 3,211,521\n",
            "Non-trainable params: 14,714,688\n",
            "_________________________________________________________________\n"
          ],
          "name": "stdout"
        }
      ]
    },
    {
      "cell_type": "markdown",
      "metadata": {
        "id": "6VnZk73JjfUe"
      },
      "source": [
        "## Fitting Del Modello"
      ]
    },
    {
      "cell_type": "code",
      "metadata": {
        "id": "xkJkDRYWjlDs"
      },
      "source": [
        "print(f'starting of the {model_name} model')\r\n",
        "start_time = time.time()\r\n",
        "history = model.fit(train_generator, \r\n",
        "                    steps_per_epoch = len(train_generator), epochs = 40, \r\n",
        "                    validation_data = (validation_generator), \r\n",
        "                    validation_steps= len(validation_generator))\r\n",
        "\r\n",
        "end_time = time.time() - start_time\r\n",
        "print(\"Total train time:\",time.gmtime(end_time).tm_hour, \"h\", time.gmtime(end_time).tm_min,\"m\",  time.gmtime(end_time).tm_sec,\"s\")\r\n",
        "\r\n",
        "# evaluate model\r\n",
        "_, acc = model.evaluate(validation_generator, steps=len(validation_generator), verbose=0)\r\n",
        "print('accuracy > %.3f ' % (acc * 100.0))\r\n",
        "#Salvataggio del modello\r\n",
        "model.save(f'{model_name}_model.h5') "
      ],
      "execution_count": null,
      "outputs": []
    },
    {
      "cell_type": "markdown",
      "metadata": {
        "id": "sV8brfNgxkqv"
      },
      "source": [
        "## Plot"
      ]
    },
    {
      "cell_type": "code",
      "metadata": {
        "id": "FuaE27Rfxua5"
      },
      "source": [
        " # plot loss\r\n",
        "plt.title('Cross Entropy Loss')\r\n",
        "plt.plot(history.history['loss'], color='blue', label='train')\r\n",
        "plt.plot(history.history['val_loss'], color='orange', label='test')\r\n",
        "plt.legend()\r\n",
        "plt.savefig('loss_plot.png')\r\n",
        "plt.close()\r\n",
        "\r\n",
        "# plot accuracy\r\n",
        "plt.title('Classification Accuracy')\r\n",
        "plt.plot(history.history['accuracy'], color='blue', label='train')\r\n",
        "plt.plot(history.history['val_accuracy'], color='orange', label='test')\r\n",
        "plt.legend()\r\n",
        "plt.savefig('accuracy_plot.png')\r\n",
        "plt.close()"
      ],
      "execution_count": null,
      "outputs": []
    },
    {
      "cell_type": "code",
      "metadata": {
        "id": "9FYHdoN65Q0O"
      },
      "source": [
        "#plot del modello\r\n",
        "from keras.utils.vis_utils import plot_model\r\n",
        "plot_model(model, to_file=f'{model_name}_model_plot.png', show_shapes=True, show_layer_names=True)"
      ],
      "execution_count": null,
      "outputs": []
    },
    {
      "cell_type": "markdown",
      "metadata": {
        "id": "Z1CmiYbmXbWk"
      },
      "source": [
        "## Immagini di test\r\n",
        "\r\n",
        "* di un gatto\r\n",
        "* di un gatto con rumore\r\n",
        "* di un gatto generico preso da internet\r\n",
        "* di un cane\r\n",
        "* di un cane coperto in parte\r\n",
        "* di un cane generico preso da internet"
      ]
    },
    {
      "cell_type": "code",
      "metadata": {
        "id": "UeTwpiYf4i9K"
      },
      "source": [
        "!mkdir img\r\n",
        "%cd img\r\n",
        "\r\n",
        "!wget http://www.thetrash.altervista.org/HPC/ML/dog.jpg\r\n",
        "!wget http://www.thetrash.altervista.org/HPC/ML/dog_luca.jpg\r\n",
        "!wget http://www.thetrash.altervista.org/HPC/ML/dog_generic.jpg\r\n",
        "!wget http://www.thetrash.altervista.org/HPC/ML/cat.jpg\r\n",
        "!wget http://www.thetrash.altervista.org/HPC/ML/cat_meme.png\r\n",
        "!wget http://www.thetrash.altervista.org/HPC/ML/cat_filippo.jpg\r\n",
        "%cd .."
      ],
      "execution_count": null,
      "outputs": []
    },
    {
      "cell_type": "markdown",
      "metadata": {
        "id": "lRxpbgpQGYCC"
      },
      "source": [
        "## Validation multipla\r\n"
      ]
    },
    {
      "cell_type": "code",
      "metadata": {
        "colab": {
          "base_uri": "https://localhost:8080/"
        },
        "id": "F1dgZMQV97Ij",
        "outputId": "7e258446-a6f0-4f58-dc80-28e0fe7f4cb0"
      },
      "source": [
        "#model = load_model(f'{model_name}_model.h5')\r\n",
        "model = load_model('third_model.h5')\r\n",
        "for filename in os.listdir('img'):\r\n",
        "  test_image = image.load_img('img/'+filename, target_size = (w,h))\r\n",
        "  test_image = image.img_to_array(test_image)\r\n",
        "  test_image = np.expand_dims(test_image, axis = 0)\r\n",
        "  result = model.predict(test_image, verbose=2)\r\n",
        "#{'cats': 0, 'dogs': 1}\r\n",
        "  if result == 1:\r\n",
        "    prediction = 'dog'\r\n",
        "  else:\r\n",
        "    prediction = 'cat'\r\n",
        "\r\n",
        "  print(f'my prediction on {filename} is {prediction}')"
      ],
      "execution_count": null,
      "outputs": [
        {
          "output_type": "stream",
          "text": [
            "1/1 - 0s\n",
            "my prediction on cat_filippo.jpg is dog with 100% of accuracy\n",
            "1/1 - 0s\n",
            "my prediction on dog_luca.jpg is dog with 100% of accuracy\n",
            "1/1 - 0s\n",
            "my prediction on dog_generic.jpg is dog with 100% of accuracy\n",
            "1/1 - 0s\n",
            "my prediction on cat_meme.png is cat with 100% of accuracy\n",
            "1/1 - 0s\n",
            "my prediction on cat.jpg is cat with 100% of accuracy\n",
            "1/1 - 0s\n",
            "my prediction on dog.jpg is dog with 100% of accuracy\n"
          ],
          "name": "stdout"
        }
      ]
    }
  ]
}